{
 "cells": [
  {
   "cell_type": "code",
   "execution_count": null,
   "metadata": {},
   "outputs": [],
   "source": [
    "\"\"\"Test for SegNet\"\"\"\n",
    "\n",
    "from __future__ import print_function\n",
    "from model import SegNet\n",
    "from dataset import NUM_CLASSES\n",
    "import matplotlib.pyplot as plt\n",
    "import numpy as np\n",
    "import torch\n",
    "\n",
    "\n",
    "if __name__ == \"__main__\":\n",
    "    # RGB input\n",
    "    input_channels = 3\n",
    "    # RGB output\n",
    "    output_channels = NUM_CLASSES\n",
    "\n",
    "    # Model\n",
    "    model = SegNet(input_channels=input_channels, output_channels=output_channels)\n",
    "\n",
    "    print(model)\n",
    "\n",
    "    img = torch.randn([4, 3, 224, 224])\n",
    "\n",
    "    # plt.imshow(np.transpose(img.numpy()[0,:,:,:],\n",
    "    #                         (1, 2, 0)))\n",
    "    # plt.show()\n",
    "\n",
    "    output, softmaxed_output = model(img)\n",
    "\n",
    "\n",
    "    # plt.imshow(np.transpose(output.detach().numpy()[0,:,:,:],\n",
    "    #                         (1, 2, 0)))\n",
    "    # plt.show()\n",
    "\n",
    "\n",
    "    print(output.size())\n",
    "    print(softmaxed_output.size())\n",
    "\n",
    "    print(output[0,:,0,0])\n",
    "    print(softmaxed_output[0,:,0,0].sum())\n"
   ]
  }
 ],
 "metadata": {
  "kernelspec": {
   "display_name": "Python 3",
   "language": "python",
   "name": "python3"
  },
  "language_info": {
   "codemirror_mode": {
    "name": "ipython",
    "version": 3
   },
   "file_extension": ".py",
   "mimetype": "text/x-python",
   "name": "python",
   "nbconvert_exporter": "python",
   "pygments_lexer": "ipython3",
   "version": "3.8.5"
  }
 },
 "nbformat": 4,
 "nbformat_minor": 4
}
